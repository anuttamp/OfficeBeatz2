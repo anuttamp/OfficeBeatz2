{
 "cells": [
  {
   "cell_type": "markdown",
   "metadata": {},
   "source": [
    "This is a simple Metadata checking script. In order for the songs to work with the web app, ALL SONGS MUST HAVE METADATA TAGS OF THE FOLLOWING: \n",
    "Title, Artist, Genre, Year, Filename.\n",
    "\n",
    "The below cell of code will ensure that all audio files in a given directory have those tags. If one does, it will print an error to the console, and append that song to a list, that you then have the option to remove from the directory, using the last cell in this notebook.\n",
    "\n",
    "This program uses the module `eyeD3` to check for metadata tags. Documentation can be found online.\n",
    "\n",
    "All filepaths need to be changed to YOUR local directories.\n",
    "\n",
    "This program was written by Mac Stark during the months of 03/2020-04/2020 for use in a Software Engineering course for the WebApp OfficeBeatZ."
   ]
  },
  {
   "cell_type": "code",
   "execution_count": 1,
   "metadata": {
    "scrolled": true
   },
   "outputs": [
    {
     "name": "stdout",
     "output_type": "stream",
     "text": [
      "03 Preservation.mp3 is lacking a metadata tag! It either needs to be removed or tagged properly\n",
      "\n",
      "Our House.mp3 is lacking a metadata tag! It either needs to be removed or tagged properly\n",
      "\n",
      "There are songs in this directory that do not have the requisite metadata. Remove these files with the cell below\n",
      "\n",
      "This is a list of bad files. You can see that every song displayed has at least one attribute that is `None`\n",
      "\n",
      "You need to remove these files from this directory using the cell beneath this one\n",
      "\n",
      "You can either tag all of these songs with the requisite metadata using `MusicBrainz Picard` or throw them out\n",
      "\n",
      "[('Preservation', 'Hieroglyphics', 'None', 'None', '03 Preservation.mp3'), ('Our House', 'Crosby Stills Nash and Young', 'None', 'None', 'Our House.mp3')]\n"
     ]
    }
   ],
   "source": [
    "import shutil as sh\n",
    "import os\n",
    "import eyed3\n",
    "\n",
    "path_to_music = 'C:\\\\Users\\\\macstark\\\\Desktop\\\\Example-Songs\\\\Regular-Songs'\n",
    "\n",
    "eyed3.log.setLevel(\"ERROR\")\n",
    "\n",
    "files = []\n",
    "files.clear()\n",
    "# r = root, d = directory, f = files\n",
    "for r, d, f in os.walk(path_to_music):\n",
    "    for file in f:\n",
    "        files.append(file)\n",
    "    \n",
    "files.sort()\n",
    "normal_count = len(files)\n",
    "\n",
    "good_files = []\n",
    "metadata_lacking = []\n",
    "count = 0\n",
    "for f in files:\n",
    "    file_name = path_to_music + '\\\\{}'.format(f)\n",
    "    song = eyed3.load(file_name)\n",
    "    try:\n",
    "        title = str(song.tag.title)\n",
    "        artist = str(song.tag.artist)\n",
    "        genre = str(song.tag.genre).split(')')[-1]\n",
    "        year = str(song.tag.getBestDate())\n",
    "        actual_file_name = f\n",
    "        good_files.append((title, artist, genre, year, actual_file_name))\n",
    "    except (ValueError, AttributeError) as e:\n",
    "       # print(e)\n",
    "        continue\n",
    "    \n",
    "    \n",
    "    \n",
    "    \n",
    "for x in good_files:\n",
    "    song_title = x[0]\n",
    "    song_artist = x[1]\n",
    "    song_genre = x[2]\n",
    "    song_year = x[3]\n",
    "    actual_file_name = x[4]\n",
    "    if ((song_year == 'None') or (song_genre == 'None') or (song_artist == 'None') or (song_title == 'None')):\n",
    "            metadata_lacking.append(x)\n",
    "            print('{} is lacking a metadata tag! It either needs to be removed or tagged properly\\n'.format(x[4]))\n",
    "            good_files.remove(x)\n",
    "\n",
    "            \n",
    "if (len(metadata_lacking) == 0):\n",
    "    print('Every song in this directory has the requisite metadata. You can proceed to Compression!!!!!')\n",
    "else:\n",
    "    print('There are songs in this directory that do not have the requisite metadata. Remove these files with the cell below\\n')\n",
    "    print('This is a list of bad files. You can see that every song displayed has at least one attribute that is `None`\\n')\n",
    "    print('You need to remove these files from this directory using the cell beneath this one\\n')\n",
    "    print('You can either tag all of these songs with the requisite metadata using `MusicBrainz Picard` or throw them out\\n')\n",
    "    print(metadata_lacking)\n",
    "\n",
    "#print(good_files)"
   ]
  },
  {
   "cell_type": "markdown",
   "metadata": {},
   "source": [
    "The below cell will move these songs with insufficient Metadata to a new directory that you specify."
   ]
  },
  {
   "cell_type": "code",
   "execution_count": 2,
   "metadata": {},
   "outputs": [],
   "source": [
    "import shutil as sh\n",
    "import os\n",
    "\n",
    "music_path = 'C:\\\\Users\\\\macstark\\\\Desktop\\\\Example-Songs\\\\Regular-Songs'\n",
    "output_music_path = 'C:\\\\Users\\\\macstark\\\\Desktop\\\\Example-Songs\\\\Improper-Metadata'\n",
    "\n",
    "for f in metadata_lacking:\n",
    "    new_file_path = output_music_path + '\\\\{}'.format(f[4])\n",
    "    sh.move('{}\\\\{}'.format(music_path,f[4]), new_file_path)"
   ]
  },
  {
   "cell_type": "code",
   "execution_count": null,
   "metadata": {},
   "outputs": [],
   "source": []
  }
 ],
 "metadata": {
  "kernelspec": {
   "display_name": "Python 3",
   "language": "python",
   "name": "python3"
  },
  "language_info": {
   "codemirror_mode": {
    "name": "ipython",
    "version": 3
   },
   "file_extension": ".py",
   "mimetype": "text/x-python",
   "name": "python",
   "nbconvert_exporter": "python",
   "pygments_lexer": "ipython3",
   "version": "3.7.3"
  }
 },
 "nbformat": 4,
 "nbformat_minor": 2
}

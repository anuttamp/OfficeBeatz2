{
 "cells": [
  {
   "cell_type": "markdown",
   "metadata": {},
   "source": [
    "This is a simple compression script that uses ffmpeg as a compression tool. Google `ffmpeg` to download the program. ffmpeg works on the command line. I used Windows Powershell as my choice of terminal, so line 18 of cell 2 will need to be changed if thats not what you're using. All cell 2 is doing is generating a string that is what needs to be copy and pasted into the CLI in order to run ffmpeg.exe. It will generate this string and funnel that command into Windows Powershell to be executed by the Operating System. This is how any Shell Script works. As outlined in the video, play around with the bitrate (compression_factor), until you have found a suitable level of compression that gives you your prefered balance between audio quality and file size. Only after you have decided upon a bitrate (compression_factor), should you run this script. That is merely a piece of advice though, use your time as you please.\n",
    "\n",
    "All filepaths need to be changed to YOUR local directories.\n",
    "\n",
    "This program was written by Mac Stark, with great help from Aaron Smith, during the months of 03/2020-04/2020 for use in a Software Engineering course for the WebApp OfficeBeatZ."
   ]
  },
  {
   "cell_type": "markdown",
   "metadata": {},
   "source": [
    "The below cell is a powershell script that automates the compression of songs. The compressed songs are placed in the same directory, and are named `<original_filename> - Compressed - <compression_factor>.mp3`"
   ]
  },
  {
   "cell_type": "code",
   "execution_count": 1,
   "metadata": {},
   "outputs": [],
   "source": [
    "######################### Global imports and Global Variables #########################\n",
    "import os\n",
    "import subprocess\n",
    "\n",
    "music_path = 'C:\\\\Users\\\\macstark\\\\Desktop\\\\Example-Songs\\\\Regular-Songs'\n",
    "ffmpeg_path = 'C:\\\\Users\\\\macstark\\\\Desktop\\\\Example-Songs\\\\ffmpeg.exe'\n",
    "compression_factor = '60k'"
   ]
  },
  {
   "cell_type": "code",
   "execution_count": 2,
   "metadata": {},
   "outputs": [
    {
     "name": "stdout",
     "output_type": "stream",
     "text": [
      "(b'', None)\n",
      "(b'', None)\n",
      "(b'', None)\n",
      "(b'', None)\n",
      "(b'', None)\n",
      "(b'', None)\n",
      "(b'', None)\n",
      "(b'', None)\n",
      "(b'', None)\n",
      "(b'', None)\n",
      "(b'', None)\n"
     ]
    }
   ],
   "source": [
    "## Loop through music folder and extract file paths into a array\n",
    "\n",
    "files = []\n",
    "\n",
    "# r=root, d=directories, f = files\n",
    "\n",
    "for r, d, f in os.walk(music_path):\n",
    "    for file in f:\n",
    "        files.append(os.path.join(r, file))\n",
    "\n",
    "## Run ffmpeg on each file\n",
    "\n",
    "for f in files:\n",
    "    raw_filename = os.path.abspath(f)\n",
    "    split_raw = raw_filename.split('.')\n",
    "    final_basename = split_raw[0] + ' - Compressed - {}.mp3'.format(compression_factor)\n",
    "    #print(\"{}\".format(ffmpeg_path) + \" -i '{}\".format(raw_filename) + \"' -b:a {} '{}\".format(compression_factor, final_basename) + \"'\" + '\\n')\n",
    "    process=subprocess.Popen([\"powershell\",\"{}\".format(ffmpeg_path) + \" -i '{}\".format(raw_filename) + \"' -b:a {} '{}\".format(compression_factor,final_basename) + \"'\"],stdout=subprocess.PIPE)\n",
    "    print(process.communicate())"
   ]
  },
  {
   "cell_type": "markdown",
   "metadata": {},
   "source": [
    "After completion of the above cell, all of the songs in <music_path> will have been compressed, and will be placed in the same directory with `- Compressed - <compression_factor>.mp3` appended to the end of their filename. It is worth noting that regardless of what the input file format of the audiofile is (.mp3, .m4a, .mp4, .mpeg, etc.) this script will always convert the file format to an .mp3. If you wish to change that, simply change line 16 of cell 2, making sure that compression executable, `ffmpeg`, is able to do that."
   ]
  },
  {
   "cell_type": "markdown",
   "metadata": {},
   "source": [
    "The below cell will move these compressed songs to a new directory that you specify, and will revert them to their original filename"
   ]
  },
  {
   "cell_type": "code",
   "execution_count": 3,
   "metadata": {},
   "outputs": [],
   "source": [
    "import shutil as sh\n",
    "import os\n",
    "import subprocess\n",
    "music_path = 'C:\\\\Users\\\\macstark\\\\Desktop\\\\Example-Songs\\\\Regular-Songs'\n",
    "output_music_path = 'C:\\\\Users\\\\macstark\\\\Desktop\\\\Example-Songs\\\\Compressed-Songs'\n",
    "\n",
    "files = []\n",
    "# r=root, d=directories, f = files\n",
    "for r, d, f in os.walk(music_path):\n",
    "    for file in f:\n",
    "        if '- Compressed' in file:\n",
    "            files.append(os.path.join(r, file))\n",
    "for f in files:\n",
    "    raw_filename = os.path.basename(f)\n",
    "    new_basename = raw_filename[0:len(raw_filename) - len(compression_factor) - 20] + '.mp3'\n",
    "    output_file_name_changed = output_music_path + '\\\\' + new_basename\n",
    "    sh.move(f, \"{}\".format(output_file_name_changed))"
   ]
  },
  {
   "cell_type": "code",
   "execution_count": null,
   "metadata": {},
   "outputs": [],
   "source": []
  }
 ],
 "metadata": {
  "kernelspec": {
   "display_name": "Python 3",
   "language": "python",
   "name": "python3"
  },
  "language_info": {
   "codemirror_mode": {
    "name": "ipython",
    "version": 3
   },
   "file_extension": ".py",
   "mimetype": "text/x-python",
   "name": "python",
   "nbconvert_exporter": "python",
   "pygments_lexer": "ipython3",
   "version": "3.7.3"
  }
 },
 "nbformat": 4,
 "nbformat_minor": 2
}

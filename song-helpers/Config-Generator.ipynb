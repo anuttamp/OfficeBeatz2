{
 "cells": [
  {
   "cell_type": "markdown",
   "metadata": {},
   "source": [
    "This is a simple program that generates the config.json file that needs to be included in the Dropbox database for the OfficeBeatZ WebApp. As stated in the video walkthrough that accompanies this script, this config.json file is indispensible to the functionality of the app. Even if you are changing to a different database besides Dropbox for song storage, the front end UI will still look for a config.json file that contains all of the songs it can choose from with all of the requisite Metadata outlined in the Metadata-Checker and detailed in the video. I cannot stress enough that if this config file is not generated will all songs having tags of `TITLE`, `ARTIST`, `GENRE`, and `YEAR`, THE APP WILL NOT FUNCTION.\n",
    "\n",
    "This program generates the config.json file locally, and places it in the directory you have specified in the second to last cell of this program. All filepaths need to be changed to YOUR local directories. \n",
    "\n",
    "This program was written by Mac Stark during the months of 03/2020-04/2020 for use in a Software Engineering course for the WebApp OfficeBeatZ.\n"
   ]
  },
  {
   "cell_type": "code",
   "execution_count": 1,
   "metadata": {},
   "outputs": [],
   "source": [
    "import shutil as sh\n",
    "import os\n",
    "import eyed3\n",
    "\n",
    "\n",
    "path_to_music = 'C:\\\\Users\\\\macstark\\\\Desktop\\\\Example-Songs\\\\Compressed-Songs'\n",
    "\n",
    "eyed3.log.setLevel(\"ERROR\")\n",
    "files = []\n",
    "files.clear()\n",
    "# r = root, d = directory, f = files\n",
    "for r, d, f in os.walk(path_to_music):\n",
    "    for file in f:\n",
    "        files.append(file)\n",
    "    \n",
    "files.sort()\n",
    "normal_count = len(files)\n",
    "\n",
    "config_files = []\n",
    "count = 0\n",
    "for f in files:\n",
    "    file_name = path_to_music + '\\\\{}'.format(f)\n",
    "    song = eyed3.load(file_name)\n",
    "    actual_file_name = f\n",
    "    title = str(song.tag.title)\n",
    "    artist = str(song.tag.artist)[0:]\n",
    "    genre = str(song.tag.genre).split(')')[-1]\n",
    "    year = str(song.tag.getBestDate())\n",
    "    #song.tag.recording_date = year[0:4]\n",
    "    config_files.append((title, artist, genre, year[0:4], actual_file_name))\n",
    "    \n",
    "\n",
    "for x in config_files:\n",
    "    title = x[0]\n",
    "    artist = x[1]\n",
    "    genre = x[2]\n",
    "    year = x[3]\n",
    "    actual_file_name = x[4]\n",
    "    count += 1\n",
    "    \n",
    "#print(config_files)\n",
    "\n",
    "#print(normal_count)\n"
   ]
  },
  {
   "cell_type": "code",
   "execution_count": null,
   "metadata": {},
   "outputs": [],
   "source": []
  },
  {
   "cell_type": "code",
   "execution_count": 2,
   "metadata": {},
   "outputs": [
    {
     "name": "stdout",
     "output_type": "stream",
     "text": [
      "{'Pop': 4, 'Alternative': 1, 'Rock': 2, 'Electronic': 1, 'Rap': 2}\n",
      "The number of files in this directory is 10\n"
     ]
    }
   ],
   "source": [
    "genre_dict = {}\n",
    "for y in config_files:\n",
    "    if y[2] not in genre_dict:\n",
    "        genre_dict[y[2]] = 1\n",
    "    else:\n",
    "        genre_dict[y[2]] += 1\n",
    "        \n",
    "print(genre_dict)\n",
    "genre_keys = list(genre_dict.keys())\n",
    "genre_vals = list(genre_dict.values())\n",
    "\n",
    "print('The number of files in this directory is {}'.format(count))\n"
   ]
  },
  {
   "cell_type": "code",
   "execution_count": 1,
   "metadata": {},
   "outputs": [
    {
     "ename": "NameError",
     "evalue": "name 'genre_keys' is not defined",
     "output_type": "error",
     "traceback": [
      "\u001b[1;31m---------------------------------------------------------------------------\u001b[0m",
      "\u001b[1;31mNameError\u001b[0m                                 Traceback (most recent call last)",
      "\u001b[1;32m<ipython-input-1-1910d1803d2a>\u001b[0m in \u001b[0;36m<module>\u001b[1;34m\u001b[0m\n\u001b[0;32m      3\u001b[0m \u001b[0mnew_config\u001b[0m\u001b[1;33m.\u001b[0m\u001b[0mappend\u001b[0m\u001b[1;33m(\u001b[0m\u001b[1;34m'{\\n'\u001b[0m\u001b[1;33m)\u001b[0m\u001b[1;33m\u001b[0m\u001b[1;33m\u001b[0m\u001b[0m\n\u001b[0;32m      4\u001b[0m \u001b[0mnew_config\u001b[0m\u001b[1;33m.\u001b[0m\u001b[0mappend\u001b[0m\u001b[1;33m(\u001b[0m\u001b[1;34m'\\t\"counts\": {\\n'\u001b[0m\u001b[1;33m)\u001b[0m\u001b[1;33m\u001b[0m\u001b[1;33m\u001b[0m\u001b[0m\n\u001b[1;32m----> 5\u001b[1;33m \u001b[1;32mfor\u001b[0m \u001b[0mi\u001b[0m \u001b[1;32min\u001b[0m \u001b[0mrange\u001b[0m\u001b[1;33m(\u001b[0m\u001b[1;36m0\u001b[0m\u001b[1;33m,\u001b[0m \u001b[0mlen\u001b[0m\u001b[1;33m(\u001b[0m\u001b[0mgenre_keys\u001b[0m\u001b[1;33m)\u001b[0m\u001b[1;33m)\u001b[0m\u001b[1;33m:\u001b[0m\u001b[1;33m\u001b[0m\u001b[1;33m\u001b[0m\u001b[0m\n\u001b[0m\u001b[0;32m      6\u001b[0m     \u001b[0mnew_config\u001b[0m\u001b[1;33m.\u001b[0m\u001b[0mappend\u001b[0m\u001b[1;33m(\u001b[0m\u001b[1;34m'\\t\\t\"{}\": {}'\u001b[0m\u001b[1;33m.\u001b[0m\u001b[0mformat\u001b[0m\u001b[1;33m(\u001b[0m\u001b[0mgenre_keys\u001b[0m\u001b[1;33m[\u001b[0m\u001b[0mi\u001b[0m\u001b[1;33m]\u001b[0m\u001b[1;33m,\u001b[0m \u001b[0mgenre_vals\u001b[0m\u001b[1;33m[\u001b[0m\u001b[0mi\u001b[0m\u001b[1;33m]\u001b[0m\u001b[1;33m)\u001b[0m\u001b[1;33m)\u001b[0m\u001b[1;33m\u001b[0m\u001b[1;33m\u001b[0m\u001b[0m\n\u001b[0;32m      7\u001b[0m     \u001b[1;32mif\u001b[0m \u001b[0mi\u001b[0m \u001b[1;33m!=\u001b[0m \u001b[0mlen\u001b[0m\u001b[1;33m(\u001b[0m\u001b[0mgenre_keys\u001b[0m\u001b[1;33m)\u001b[0m\u001b[1;33m-\u001b[0m\u001b[1;36m1\u001b[0m\u001b[1;33m:\u001b[0m\u001b[1;33m\u001b[0m\u001b[1;33m\u001b[0m\u001b[0m\n",
      "\u001b[1;31mNameError\u001b[0m: name 'genre_keys' is not defined"
     ]
    }
   ],
   "source": [
    "new_config = []\n",
    "\n",
    "new_config.append('{\\n')\n",
    "new_config.append('\\t\"counts\": {\\n')\n",
    "for i in range(0, len(genre_keys)):\n",
    "    new_config.append('\\t\\t\"{}\": {}'.format(genre_keys[i], genre_vals[i]))\n",
    "    if i != len(genre_keys)-1:\n",
    "        new_config.append(',\\n')\n",
    "    else:\n",
    "        new_config.append('\\n')\n",
    "\n",
    "new_config.append('\\t},\\n')\n",
    "new_config.append('\\t\"songs\": {')\n",
    "i = 0\n",
    "for x in config_files:\n",
    "    new_config.append('\\n')\n",
    "    new_config.append('\\t\\t\"{}\": {{\\n'.format(x[0]))\n",
    "    new_config.append('\\t\\t\\t\"title\": \"{}\",'.format(x[0]))\n",
    "    new_config.append('\\n')\n",
    "    new_config.append('\\t\\t\\t\"artist\": \"{}\",'.format(x[1]))\n",
    "    new_config.append('\\n')\n",
    "    new_config.append('\\t\\t\\t\"genre\": \"{}\",'.format(x[2]))\n",
    "    new_config.append('\\n')\n",
    "    new_config.append('\\t\\t\\t\"year\": \"{}\",'.format(x[3]))\n",
    "    new_config.append('\\n')\n",
    "    new_config.append('\\t\\t\\t\"filename\": \"{}\"\\n'.format(x[4]))\n",
    "    new_config.append('\\t\\t}')\n",
    "    if(i != len(config_files) - 1):\n",
    "        new_config.append(',\\n')\n",
    "    else:\n",
    "        new_config.append('\\n')\n",
    "    i += 1\n",
    "new_config.append('\\t}\\n')\n",
    "new_config.append('}')\n",
    "\n",
    "#print(new_config)"
   ]
  },
  {
   "cell_type": "code",
   "execution_count": 4,
   "metadata": {},
   "outputs": [],
   "source": [
    "path_to_config_file = 'C:\\\\Users\\\\macstark\\\\Desktop\\\\Example-Songs\\\\Compressed-Songs'"
   ]
  },
  {
   "cell_type": "code",
   "execution_count": 5,
   "metadata": {},
   "outputs": [],
   "source": [
    "new_config_file = open('{}\\\\config.json'.format(path_to_config_file), \"w\")\n",
    "\n",
    "new_file_contents = ''.join(new_config)\n",
    "\n",
    "new_config_file.write(new_file_contents)\n",
    "\n",
    "new_config_file.close()"
   ]
  },
  {
   "cell_type": "code",
   "execution_count": null,
   "metadata": {},
   "outputs": [],
   "source": []
  }
 ],
 "metadata": {
  "kernelspec": {
   "display_name": "Python 3",
   "language": "python",
   "name": "python3"
  },
  "language_info": {
   "codemirror_mode": {
    "name": "ipython",
    "version": 3
   },
   "file_extension": ".py",
   "mimetype": "text/x-python",
   "name": "python",
   "nbconvert_exporter": "python",
   "pygments_lexer": "ipython3",
   "version": "3.7.3"
  }
 },
 "nbformat": 4,
 "nbformat_minor": 2
}
